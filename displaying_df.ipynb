{
 "cells": [
  {
   "cell_type": "code",
   "execution_count": 1,
   "metadata": {},
   "outputs": [
    {
     "name": "stdout",
     "output_type": "stream",
     "text": [
      "<class 'pandas.core.frame.DataFrame'>\n",
      "<class 'pandas.core.frame.DataFrame'>\n",
      "RangeIndex: 15320 entries, 0 to 15319\n",
      "Data columns (total 12 columns):\n",
      " #   Column         Non-Null Count  Dtype         \n",
      "---  ------         --------------  -----         \n",
      " 0   index          15320 non-null  int64         \n",
      " 1   first_name     15305 non-null  object        \n",
      " 2   last_name      15306 non-null  object        \n",
      " 3   date_of_birth  15284 non-null  datetime64[ns]\n",
      " 4   company        15299 non-null  object        \n",
      " 5   email_address  15284 non-null  object        \n",
      " 6   address        15284 non-null  object        \n",
      " 7   country        15284 non-null  object        \n",
      " 8   country_code   15278 non-null  object        \n",
      " 9   phone_number   15269 non-null  object        \n",
      " 10  join_date      15284 non-null  datetime64[ns]\n",
      " 11  user_uuid      15299 non-null  object        \n",
      "dtypes: datetime64[ns](2), int64(1), object(9)\n",
      "memory usage: 1.4+ MB\n"
     ]
    }
   ],
   "source": [
    "import pandas as pd\n",
    "import database_utils as utils\n",
    "import data_extraction as ext\n",
    "import data_cleaning as clean\n",
    "\n",
    "db_connector1 = utils.DatabaseConnector()\n",
    "extractor1 = ext.DataExtractor()\n",
    "df = extractor1.read_rds_table(db_connector1, \"legacy_users\")\n",
    "\n",
    "cleaner = clean.DataCleaning()\n",
    "clean_data = cleaner.clean_user_data(df)\n",
    "# clean_data.head(40)\n",
    "clean_data.info()\n",
    "\n",
    "\n",
    "\n"
   ]
  }
 ],
 "metadata": {
  "kernelspec": {
   "display_name": "Python 3",
   "language": "python",
   "name": "python3"
  },
  "language_info": {
   "codemirror_mode": {
    "name": "ipython",
    "version": 3
   },
   "file_extension": ".py",
   "mimetype": "text/x-python",
   "name": "python",
   "nbconvert_exporter": "python",
   "pygments_lexer": "ipython3",
   "version": "3.11.5"
  }
 },
 "nbformat": 4,
 "nbformat_minor": 2
}
